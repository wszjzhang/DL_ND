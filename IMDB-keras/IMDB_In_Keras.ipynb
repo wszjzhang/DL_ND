{
 "cells": [
  {
   "cell_type": "markdown",
   "metadata": {},
   "source": [
    "# Analyzing IMDB Data in Keras"
   ]
  },
  {
   "cell_type": "code",
   "execution_count": 11,
   "metadata": {},
   "outputs": [],
   "source": [
    "# Imports\n",
    "import numpy as np\n",
    "import keras\n",
    "from keras.datasets import imdb\n",
    "from keras.models import Sequential\n",
    "from keras.layers import Dense, Dropout, Activation\n",
    "from keras.preprocessing.text import Tokenizer\n",
    "from keras import regularizers\n",
    "import matplotlib.pyplot as plt\n",
    "%matplotlib inline\n",
    "\n",
    "np.random.seed(42)"
   ]
  },
  {
   "cell_type": "markdown",
   "metadata": {},
   "source": [
    "## 1. Loading the data\n",
    "This dataset comes preloaded with Keras, so one simple command will get us training and testing data. There is a parameter for how many words we want to look at. We've set it at 1000, but feel free to experiment."
   ]
  },
  {
   "cell_type": "code",
   "execution_count": 2,
   "metadata": {},
   "outputs": [
    {
     "name": "stdout",
     "output_type": "stream",
     "text": [
      "(25000,)\n",
      "(25000,)\n"
     ]
    }
   ],
   "source": [
    "# Loading the data (it's preloaded in Keras)\n",
    "(x_train, y_train), (x_test, y_test) = imdb.load_data(num_words=1000)\n",
    "\n",
    "print(x_train.shape)\n",
    "print(x_test.shape)"
   ]
  },
  {
   "cell_type": "markdown",
   "metadata": {},
   "source": [
    "## 2. Examining the data\n",
    "Notice that the data has been already pre-processed, where all the words have numbers, and the reviews come in as a vector with the words that the review contains. For example, if the word 'the' is the first one in our dictionary, and a review contains the word 'the', then there is a 1 in the corresponding vector.\n",
    "\n",
    "The output comes as a vector of 1's and 0's, where 1 is a positive sentiment for the review, and 0 is negative."
   ]
  },
  {
   "cell_type": "code",
   "execution_count": 3,
   "metadata": {},
   "outputs": [
    {
     "name": "stdout",
     "output_type": "stream",
     "text": [
      "[1, 14, 22, 16, 43, 530, 973, 2, 2, 65, 458, 2, 66, 2, 4, 173, 36, 256, 5, 25, 100, 43, 838, 112, 50, 670, 2, 9, 35, 480, 284, 5, 150, 4, 172, 112, 167, 2, 336, 385, 39, 4, 172, 2, 2, 17, 546, 38, 13, 447, 4, 192, 50, 16, 6, 147, 2, 19, 14, 22, 4, 2, 2, 469, 4, 22, 71, 87, 12, 16, 43, 530, 38, 76, 15, 13, 2, 4, 22, 17, 515, 17, 12, 16, 626, 18, 2, 5, 62, 386, 12, 8, 316, 8, 106, 5, 4, 2, 2, 16, 480, 66, 2, 33, 4, 130, 12, 16, 38, 619, 5, 25, 124, 51, 36, 135, 48, 25, 2, 33, 6, 22, 12, 215, 28, 77, 52, 5, 14, 407, 16, 82, 2, 8, 4, 107, 117, 2, 15, 256, 4, 2, 7, 2, 5, 723, 36, 71, 43, 530, 476, 26, 400, 317, 46, 7, 4, 2, 2, 13, 104, 88, 4, 381, 15, 297, 98, 32, 2, 56, 26, 141, 6, 194, 2, 18, 4, 226, 22, 21, 134, 476, 26, 480, 5, 144, 30, 2, 18, 51, 36, 28, 224, 92, 25, 104, 4, 226, 65, 16, 38, 2, 88, 12, 16, 283, 5, 16, 2, 113, 103, 32, 15, 16, 2, 19, 178, 32]\n",
      "1\n"
     ]
    }
   ],
   "source": [
    "print(x_train[0])\n",
    "print(y_train[0])"
   ]
  },
  {
   "cell_type": "code",
   "execution_count": 62,
   "metadata": {},
   "outputs": [
    {
     "data": {
      "text/plain": [
       "(25000, 1000)"
      ]
     },
     "execution_count": 62,
     "metadata": {},
     "output_type": "execute_result"
    }
   ],
   "source": [
    "x_train.shape"
   ]
  },
  {
   "cell_type": "markdown",
   "metadata": {},
   "source": [
    "## 3. One-hot encoding the output\n",
    "Here, we'll turn the input vectors into (0,1)-vectors. For example, if the pre-processed vector contains the number 14, then in the processed vector, the 14th entry will be 1."
   ]
  },
  {
   "cell_type": "code",
   "execution_count": 4,
   "metadata": {
    "collapsed": true
   },
   "outputs": [
    {
     "name": "stdout",
     "output_type": "stream",
     "text": [
      "[ 0.  1.  1.  0.  1.  1.  1.  1.  1.  1.  0.  0.  1.  1.  1.  1.  1.  1.\n",
      "  1.  1.  0.  1.  1.  0.  0.  1.  1.  0.  1.  0.  1.  0.  1.  1.  0.  1.\n",
      "  1.  0.  1.  1.  0.  0.  0.  1.  0.  0.  1.  0.  1.  0.  1.  1.  1.  0.\n",
      "  0.  0.  1.  0.  0.  0.  0.  0.  1.  0.  0.  1.  1.  0.  0.  0.  0.  1.\n",
      "  0.  0.  0.  0.  1.  1.  0.  0.  0.  0.  1.  0.  0.  0.  0.  1.  1.  0.\n",
      "  0.  0.  1.  0.  0.  0.  0.  0.  1.  0.  1.  0.  0.  1.  1.  0.  1.  1.\n",
      "  0.  0.  0.  0.  1.  1.  0.  0.  0.  1.  0.  0.  0.  0.  0.  0.  1.  0.\n",
      "  0.  0.  0.  0.  1.  0.  0.  0.  1.  1.  0.  0.  0.  0.  0.  1.  0.  0.\n",
      "  1.  0.  0.  1.  0.  0.  1.  0.  0.  0.  0.  0.  0.  0.  0.  0.  0.  0.\n",
      "  0.  0.  0.  0.  0.  1.  0.  0.  0.  0.  1.  1.  0.  0.  0.  0.  1.  0.\n",
      "  0.  0.  0.  0.  0.  0.  0.  0.  0.  0.  0.  0.  1.  0.  1.  0.  0.  0.\n",
      "  0.  0.  0.  0.  0.  0.  0.  0.  0.  0.  0.  0.  0.  0.  0.  0.  0.  1.\n",
      "  0.  0.  0.  0.  0.  0.  0.  0.  1.  0.  1.  0.  0.  0.  0.  0.  0.  0.\n",
      "  0.  0.  0.  0.  0.  0.  0.  0.  0.  0.  0.  0.  0.  0.  0.  0.  0.  0.\n",
      "  0.  0.  0.  0.  1.  0.  0.  0.  0.  0.  0.  0.  0.  0.  0.  0.  0.  0.\n",
      "  0.  0.  0.  0.  0.  0.  0.  0.  0.  0.  0.  0.  0.  1.  1.  0.  0.  0.\n",
      "  0.  0.  0.  0.  0.  0.  0.  0.  0.  1.  0.  0.  0.  0.  0.  0.  0.  0.\n",
      "  0.  0.  0.  0.  0.  0.  0.  0.  0.  0.  1.  1.  0.  0.  0.  0.  0.  0.\n",
      "  0.  0.  0.  0.  0.  0.  0.  0.  0.  0.  0.  0.  1.  0.  0.  0.  0.  0.\n",
      "  0.  0.  0.  0.  0.  0.  0.  0.  0.  0.  0.  0.  0.  0.  0.  0.  0.  0.\n",
      "  0.  0.  0.  0.  0.  0.  0.  0.  0.  0.  0.  0.  0.  0.  0.  0.  0.  0.\n",
      "  0.  0.  0.  1.  0.  0.  0.  1.  1.  0.  0.  0.  0.  0.  0.  0.  0.  0.\n",
      "  0.  0.  0.  0.  1.  0.  0.  0.  0.  0.  0.  1.  0.  0.  0.  0.  0.  0.\n",
      "  0.  0.  0.  0.  0.  0.  0.  0.  0.  0.  0.  0.  0.  0.  0.  0.  0.  0.\n",
      "  0.  0.  0.  0.  0.  0.  0.  0.  0.  0.  0.  0.  0.  0.  0.  1.  0.  0.\n",
      "  0.  0.  0.  0.  0.  0.  0.  0.  1.  0.  0.  0.  0.  0.  0.  0.  0.  0.\n",
      "  0.  1.  0.  0.  0.  0.  0.  0.  1.  0.  0.  0.  1.  0.  0.  0.  0.  0.\n",
      "  0.  0.  0.  0.  0.  0.  0.  0.  0.  0.  0.  0.  0.  0.  0.  0.  0.  0.\n",
      "  0.  0.  0.  0.  0.  0.  0.  0.  0.  0.  0.  1.  0.  0.  0.  0.  0.  0.\n",
      "  0.  0.  0.  0.  0.  0.  0.  0.  1.  0.  0.  0.  0.  0.  0.  0.  0.  0.\n",
      "  0.  0.  0.  0.  0.  0.  1.  0.  0.  0.  0.  0.  0.  0.  0.  0.  0.  0.\n",
      "  0.  0.  0.  0.  0.  0.  0.  0.  0.  0.  0.  0.  0.  0.  0.  0.  0.  0.\n",
      "  0.  0.  0.  0.  0.  0.  0.  0.  0.  0.  0.  0.  0.  0.  0.  0.  0.  0.\n",
      "  0.  0.  0.  0.  0.  0.  0.  0.  0.  0.  0.  0.  0.  0.  0.  0.  0.  0.\n",
      "  0.  0.  0.  0.  0.  0.  0.  1.  0.  0.  0.  0.  0.  0.  1.  0.  0.  0.\n",
      "  0.  0.  0.  0.  0.  0.  0.  0.  0.  0.  0.  0.  0.  0.  0.  0.  0.  0.\n",
      "  0.  0.  0.  0.  0.  0.  0.  0.  0.  0.  0.  0.  0.  0.  0.  0.  0.  0.\n",
      "  0.  0.  0.  0.  1.  0.  0.  0.  0.  0.  0.  0.  0.  0.  0.  0.  0.  0.\n",
      "  0.  0.  0.  0.  0.  0.  0.  0.  0.  0.  0.  0.  0.  0.  0.  0.  0.  0.\n",
      "  0.  0.  0.  0.  0.  0.  0.  0.  0.  0.  0.  0.  0.  0.  0.  0.  0.  0.\n",
      "  0.  0.  0.  1.  0.  0.  0.  0.  0.  0.  0.  0.  0.  0.  0.  0.  0.  0.\n",
      "  0.  0.  0.  0.  0.  0.  0.  0.  0.  0.  0.  0.  0.  0.  0.  0.  0.  0.\n",
      "  0.  0.  0.  0.  0.  0.  0.  0.  0.  0.  0.  0.  0.  0.  0.  0.  0.  0.\n",
      "  0.  0.  0.  0.  0.  0.  0.  0.  0.  0.  0.  0.  0.  0.  0.  0.  0.  0.\n",
      "  0.  0.  0.  0.  0.  0.  0.  0.  0.  0.  0.  0.  0.  0.  0.  0.  0.  0.\n",
      "  0.  0.  0.  0.  0.  0.  0.  0.  0.  0.  0.  0.  0.  0.  0.  0.  0.  0.\n",
      "  0.  0.  0.  0.  0.  0.  0.  0.  0.  0.  1.  0.  0.  0.  0.  0.  0.  0.\n",
      "  0.  0.  0.  0.  0.  0.  0.  0.  0.  0.  0.  0.  0.  0.  0.  0.  0.  0.\n",
      "  0.  0.  0.  0.  0.  0.  0.  0.  0.  0.  0.  0.  0.  0.  0.  0.  0.  0.\n",
      "  0.  0.  0.  0.  0.  0.  0.  0.  0.  0.  0.  0.  0.  0.  0.  0.  0.  0.\n",
      "  0.  0.  0.  0.  0.  0.  0.  0.  0.  0.  0.  0.  0.  0.  0.  0.  0.  0.\n",
      "  0.  0.  0.  0.  0.  0.  0.  0.  0.  0.  0.  0.  0.  0.  0.  0.  0.  0.\n",
      "  0.  0.  0.  0.  0.  0.  0.  0.  0.  0.  0.  0.  0.  0.  0.  0.  0.  0.\n",
      "  0.  0.  0.  0.  0.  0.  0.  0.  0.  0.  0.  0.  0.  0.  0.  0.  0.  0.\n",
      "  0.  1.  0.  0.  0.  0.  0.  0.  0.  0.  0.  0.  0.  0.  0.  0.  0.  0.\n",
      "  0.  0.  0.  0.  0.  0.  0.  0.  0.  0.]\n"
     ]
    }
   ],
   "source": [
    "# One-hot encoding the output into vector mode, each of length 1000\n",
    "tokenizer = Tokenizer(num_words=1000)\n",
    "x_train = tokenizer.sequences_to_matrix(x_train, mode='binary')\n",
    "x_test = tokenizer.sequences_to_matrix(x_test, mode='binary')\n",
    "print(x_train[0])"
   ]
  },
  {
   "cell_type": "markdown",
   "metadata": {},
   "source": [
    "And we'll also one-hot encode the output."
   ]
  },
  {
   "cell_type": "code",
   "execution_count": 5,
   "metadata": {},
   "outputs": [
    {
     "name": "stdout",
     "output_type": "stream",
     "text": [
      "(25000, 2)\n",
      "(25000, 2)\n"
     ]
    }
   ],
   "source": [
    "# One-hot encoding the output\n",
    "num_classes = 2\n",
    "y_train = keras.utils.to_categorical(y_train, num_classes)\n",
    "y_test = keras.utils.to_categorical(y_test, num_classes)\n",
    "print(y_train.shape)\n",
    "print(y_test.shape)"
   ]
  },
  {
   "cell_type": "markdown",
   "metadata": {},
   "source": [
    "## 4. Building the  model architecture\n",
    "Build a model here using sequential. Feel free to experiment with different layers and sizes! Also, experiment adding dropout to reduce overfitting."
   ]
  },
  {
   "cell_type": "code",
   "execution_count": 53,
   "metadata": {
    "collapsed": true
   },
   "outputs": [
    {
     "name": "stdout",
     "output_type": "stream",
     "text": [
      "_________________________________________________________________\n",
      "Layer (type)                 Output Shape              Param #   \n",
      "=================================================================\n",
      "dense_43 (Dense)             (None, 128)               128128    \n",
      "_________________________________________________________________\n",
      "activation_43 (Activation)   (None, 128)               0         \n",
      "_________________________________________________________________\n",
      "dropout_28 (Dropout)         (None, 128)               0         \n",
      "_________________________________________________________________\n",
      "dense_44 (Dense)             (None, 16)                2064      \n",
      "_________________________________________________________________\n",
      "activation_44 (Activation)   (None, 16)                0         \n",
      "_________________________________________________________________\n",
      "dropout_29 (Dropout)         (None, 16)                0         \n",
      "_________________________________________________________________\n",
      "dense_45 (Dense)             (None, 2)                 34        \n",
      "_________________________________________________________________\n",
      "activation_45 (Activation)   (None, 2)                 0         \n",
      "=================================================================\n",
      "Total params: 130,226\n",
      "Trainable params: 130,226\n",
      "Non-trainable params: 0\n",
      "_________________________________________________________________\n"
     ]
    }
   ],
   "source": [
    "# TODO: Build the model architecture\n",
    "model = Sequential()\n",
    "model.add(Dense(128, input_shape=(x_train.shape[1],),\n",
    "               kernel_regularizer=regularizers.l2(0.005)))\n",
    "model.add(Activation(\"relu\"))\n",
    "model.add(Dropout(.1))\n",
    "model.add(Dense(16, kernel_regularizer=regularizers.l2(0.01)))\n",
    "model.add(Activation(\"relu\"))\n",
    "model.add(Dropout(.1))\n",
    "model.add(Dense(2,\n",
    "               kernel_regularizer=regularizers.l2(0.01)))\n",
    "model.add(Activation(\"softmax\"))\n",
    "\n",
    "# TODO: Compile the model using a loss function and an optimizer.\n",
    "model.compile(loss = \"categorical_crossentropy\",\n",
    "             optimizer=\"adam\", metrics=[\"accuracy\"])\n",
    "\n",
    "model.summary()"
   ]
  },
  {
   "cell_type": "markdown",
   "metadata": {},
   "source": [
    "## 5. Training the model\n",
    "Run the model here. Experiment with different batch_size, and number of epochs!"
   ]
  },
  {
   "cell_type": "code",
   "execution_count": 54,
   "metadata": {
    "collapsed": true
   },
   "outputs": [
    {
     "name": "stdout",
     "output_type": "stream",
     "text": [
      "Epoch 1/20\n",
      "25000/25000 [==============================] - 2s - loss: 0.9606 - acc: 0.8122     \n",
      "Epoch 2/20\n",
      "25000/25000 [==============================] - 0s - loss: 0.5114 - acc: 0.8509     \n",
      "Epoch 3/20\n",
      "25000/25000 [==============================] - 0s - loss: 0.4576 - acc: 0.8563     \n",
      "Epoch 4/20\n",
      "25000/25000 [==============================] - 0s - loss: 0.4460 - acc: 0.8506     \n",
      "Epoch 5/20\n",
      "25000/25000 [==============================] - 0s - loss: 0.4330 - acc: 0.8567     \n",
      "Epoch 6/20\n",
      "25000/25000 [==============================] - 0s - loss: 0.4309 - acc: 0.8580     \n",
      "Epoch 7/20\n",
      "25000/25000 [==============================] - 0s - loss: 0.4275 - acc: 0.8577     \n",
      "Epoch 8/20\n",
      "25000/25000 [==============================] - 0s - loss: 0.4224 - acc: 0.8594     \n",
      "Epoch 9/20\n",
      "25000/25000 [==============================] - 0s - loss: 0.4222 - acc: 0.8594     \n",
      "Epoch 10/20\n",
      "25000/25000 [==============================] - 0s - loss: 0.4228 - acc: 0.8596     \n",
      "Epoch 11/20\n",
      "25000/25000 [==============================] - 0s - loss: 0.4195 - acc: 0.8595     \n",
      "Epoch 12/20\n",
      "25000/25000 [==============================] - 0s - loss: 0.4150 - acc: 0.8640     \n",
      "Epoch 13/20\n",
      "25000/25000 [==============================] - 1s - loss: 0.4166 - acc: 0.8622     \n",
      "Epoch 14/20\n",
      "25000/25000 [==============================] - 0s - loss: 0.4134 - acc: 0.8628     \n",
      "Epoch 15/20\n",
      "25000/25000 [==============================] - 0s - loss: 0.4153 - acc: 0.8629     \n",
      "Epoch 16/20\n",
      "25000/25000 [==============================] - 0s - loss: 0.4169 - acc: 0.8611     \n",
      "Epoch 17/20\n",
      "25000/25000 [==============================] - 0s - loss: 0.4121 - acc: 0.8660     \n",
      "Epoch 18/20\n",
      "25000/25000 [==============================] - 0s - loss: 0.4110 - acc: 0.8633     \n",
      "Epoch 19/20\n",
      "25000/25000 [==============================] - 0s - loss: 0.4095 - acc: 0.8662     \n",
      "Epoch 20/20\n",
      "25000/25000 [==============================] - 0s - loss: 0.4111 - acc: 0.8636     \n"
     ]
    },
    {
     "data": {
      "text/plain": [
       "<keras.callbacks.History at 0x22e9aeac160>"
      ]
     },
     "execution_count": 54,
     "metadata": {},
     "output_type": "execute_result"
    }
   ],
   "source": [
    "# TODO: Run the model. Feel free to experiment with different batch sizes and number of epochs.\n",
    "model.fit(x_train, y_train, epochs=20, batch_size=128,\n",
    "         validation_data=(x_test, y_test))"
   ]
  },
  {
   "cell_type": "markdown",
   "metadata": {},
   "source": [
    "## 6. Evaluating the model\n",
    "This will give you the accuracy of the model, as evaluated on the testing set. Can you get something over 85%?"
   ]
  },
  {
   "cell_type": "code",
   "execution_count": 55,
   "metadata": {},
   "outputs": [
    {
     "name": "stdout",
     "output_type": "stream",
     "text": [
      "Accuracy:  0.86168\n"
     ]
    }
   ],
   "source": [
    "score = model.evaluate(x_test, y_test, verbose=0)\n",
    "print(\"Accuracy: \", score[1])"
   ]
  },
  {
   "cell_type": "markdown",
   "metadata": {},
   "source": [
    "# Higher Accuracy"
   ]
  },
  {
   "cell_type": "code",
   "execution_count": 73,
   "metadata": {
    "scrolled": true
   },
   "outputs": [
    {
     "name": "stdout",
     "output_type": "stream",
     "text": [
      "Train on 25000 samples, validate on 25000 samples\n",
      "Epoch 1/39\n",
      "25000/25000 [==============================] - 3s - loss: 1.2618 - acc: 0.8169 - val_loss: 0.6173 - val_acc: 0.8511\n",
      "Epoch 2/39\n",
      "25000/25000 [==============================] - 1s - loss: 0.5315 - acc: 0.8505 - val_loss: 0.4737 - val_acc: 0.8552\n",
      "Epoch 3/39\n",
      "25000/25000 [==============================] - 1s - loss: 0.4627 - acc: 0.8509 - val_loss: 0.4870 - val_acc: 0.8294\n",
      "Epoch 4/39\n",
      "25000/25000 [==============================] - 1s - loss: 0.4314 - acc: 0.8578 - val_loss: 0.4241 - val_acc: 0.8559\n",
      "Epoch 5/39\n",
      "25000/25000 [==============================] - 1s - loss: 0.4223 - acc: 0.8588 - val_loss: 0.4187 - val_acc: 0.8570\n",
      "Epoch 6/39\n",
      "25000/25000 [==============================] - 1s - loss: 0.4183 - acc: 0.8578 - val_loss: 0.4222 - val_acc: 0.8553\n",
      "Epoch 7/39\n",
      "25000/25000 [==============================] - 1s - loss: 0.4108 - acc: 0.8608 - val_loss: 0.4154 - val_acc: 0.8578\n",
      "Epoch 8/39\n",
      "25000/25000 [==============================] - 1s - loss: 0.4068 - acc: 0.8638 - val_loss: 0.4119 - val_acc: 0.8595\n",
      "Epoch 9/39\n",
      "25000/25000 [==============================] - 1s - loss: 0.4086 - acc: 0.8638 - val_loss: 0.4136 - val_acc: 0.8573\n",
      "Epoch 10/39\n",
      "25000/25000 [==============================] - 1s - loss: 0.4043 - acc: 0.8636 - val_loss: 0.4125 - val_acc: 0.8593\n",
      "Epoch 11/39\n",
      "25000/25000 [==============================] - 1s - loss: 0.4021 - acc: 0.8634 - val_loss: 0.4163 - val_acc: 0.8580\n",
      "Epoch 12/39\n",
      "25000/25000 [==============================] - 1s - loss: 0.3989 - acc: 0.8657 - val_loss: 0.4139 - val_acc: 0.8584\n",
      "Epoch 13/39\n",
      "25000/25000 [==============================] - 1s - loss: 0.3991 - acc: 0.8669 - val_loss: 0.4132 - val_acc: 0.8581\n",
      "Epoch 14/39\n",
      "25000/25000 [==============================] - 1s - loss: 0.3966 - acc: 0.8693 - val_loss: 0.4104 - val_acc: 0.8610\n",
      "Epoch 15/39\n",
      "25000/25000 [==============================] - 1s - loss: 0.3954 - acc: 0.8691 - val_loss: 0.4113 - val_acc: 0.8614\n",
      "Epoch 16/39\n",
      "25000/25000 [==============================] - 1s - loss: 0.3930 - acc: 0.8709 - val_loss: 0.4161 - val_acc: 0.8580\n",
      "Epoch 17/39\n",
      "25000/25000 [==============================] - 1s - loss: 0.3914 - acc: 0.8700 - val_loss: 0.4153 - val_acc: 0.8582\n",
      "Epoch 18/39\n",
      "25000/25000 [==============================] - 1s - loss: 0.3926 - acc: 0.8713 - val_loss: 0.4112 - val_acc: 0.8603\n",
      "Epoch 19/39\n",
      "25000/25000 [==============================] - 1s - loss: 0.3895 - acc: 0.8735 - val_loss: 0.4122 - val_acc: 0.8594\n",
      "Epoch 20/39\n",
      "25000/25000 [==============================] - 1s - loss: 0.3914 - acc: 0.8710 - val_loss: 0.4095 - val_acc: 0.8619\n",
      "Epoch 21/39\n",
      "25000/25000 [==============================] - 1s - loss: 0.3898 - acc: 0.8734 - val_loss: 0.4100 - val_acc: 0.8616\n",
      "Epoch 22/39\n",
      "25000/25000 [==============================] - 1s - loss: 0.3872 - acc: 0.8758 - val_loss: 0.4147 - val_acc: 0.8582\n",
      "Epoch 23/39\n",
      "25000/25000 [==============================] - 1s - loss: 0.3867 - acc: 0.8769 - val_loss: 0.4142 - val_acc: 0.8588\n",
      "Epoch 24/39\n",
      "25000/25000 [==============================] - 1s - loss: 0.3871 - acc: 0.8762 - val_loss: 0.4225 - val_acc: 0.8570\n",
      "Epoch 25/39\n",
      "25000/25000 [==============================] - 1s - loss: 0.3868 - acc: 0.8770 - val_loss: 0.4179 - val_acc: 0.8572\n",
      "Epoch 26/39\n",
      "25000/25000 [==============================] - 1s - loss: 0.3868 - acc: 0.8780 - val_loss: 0.4245 - val_acc: 0.8547\n",
      "Epoch 27/39\n",
      "25000/25000 [==============================] - 1s - loss: 0.3880 - acc: 0.8782 - val_loss: 0.4148 - val_acc: 0.8611\n",
      "Epoch 28/39\n",
      "25000/25000 [==============================] - 1s - loss: 0.3863 - acc: 0.8794 - val_loss: 0.4154 - val_acc: 0.8628\n",
      "Epoch 29/39\n",
      "25000/25000 [==============================] - 1s - loss: 0.3830 - acc: 0.8809 - val_loss: 0.4198 - val_acc: 0.8605\n",
      "Epoch 30/39\n",
      "25000/25000 [==============================] - 1s - loss: 0.3830 - acc: 0.8801 - val_loss: 0.4183 - val_acc: 0.8617\n",
      "Epoch 31/39\n",
      "25000/25000 [==============================] - 1s - loss: 0.3840 - acc: 0.8814 - val_loss: 0.4184 - val_acc: 0.8619\n",
      "Epoch 32/39\n",
      "25000/25000 [==============================] - 1s - loss: 0.3860 - acc: 0.8805 - val_loss: 0.4208 - val_acc: 0.8626\n",
      "Epoch 33/39\n",
      "25000/25000 [==============================] - 1s - loss: 0.3814 - acc: 0.8850 - val_loss: 0.4197 - val_acc: 0.8615\n",
      "Epoch 34/39\n",
      "25000/25000 [==============================] - 1s - loss: 0.3832 - acc: 0.8843 - val_loss: 0.4209 - val_acc: 0.8615\n",
      "Epoch 35/39\n",
      "25000/25000 [==============================] - 1s - loss: 0.3817 - acc: 0.8856 - val_loss: 0.4225 - val_acc: 0.8598\n",
      "Epoch 36/39\n",
      "25000/25000 [==============================] - 1s - loss: 0.3815 - acc: 0.8840 - val_loss: 0.4221 - val_acc: 0.8602\n",
      "Epoch 37/39\n",
      "25000/25000 [==============================] - 1s - loss: 0.3830 - acc: 0.8852 - val_loss: 0.4209 - val_acc: 0.8590\n",
      "Epoch 38/39\n",
      "25000/25000 [==============================] - 1s - loss: 0.3782 - acc: 0.8895 - val_loss: 0.4246 - val_acc: 0.8605\n",
      "Epoch 39/39\n",
      "25000/25000 [==============================] - 1s - loss: 0.3781 - acc: 0.8876 - val_loss: 0.4267 - val_acc: 0.8587\n",
      "Accuracy:  0.85868\n"
     ]
    }
   ],
   "source": [
    "# TODO: Build the model architecture\n",
    "model = Sequential()\n",
    "model.add(Dense(256, input_shape=(x_train.shape[1],),\n",
    "               kernel_regularizer=regularizers.l2(0.005)))\n",
    "model.add(Activation(\"relu\"))\n",
    "model.add(Dropout(.1))\n",
    "model.add(Dense(96, kernel_regularizer=regularizers.l2(0.005)))\n",
    "model.add(Activation(\"relu\"))\n",
    "model.add(Dropout(.1))\n",
    "model.add(Dense(2,\n",
    "               kernel_regularizer=regularizers.l2(0.01)))\n",
    "model.add(Activation(\"softmax\"))\n",
    "\n",
    "# TODO: Compile the model using a loss function and an optimizer.\n",
    "model.compile(loss = \"categorical_crossentropy\",\n",
    "             optimizer=\"adam\", metrics=[\"accuracy\"])\n",
    "\n",
    "model.fit(x_train, y_train, epochs=39, batch_size=128,\n",
    "         validation_data=(x_test, y_test))\n",
    "\n",
    "score = model.evaluate(x_test, y_test, verbose=0)\n",
    "print(\"Accuracy: \", score[1])"
   ]
  },
  {
   "cell_type": "code",
   "execution_count": null,
   "metadata": {
    "collapsed": true
   },
   "outputs": [],
   "source": []
  }
 ],
 "metadata": {
  "hide_input": false,
  "kernelspec": {
   "display_name": "Python 3",
   "language": "python",
   "name": "python3"
  },
  "language_info": {
   "codemirror_mode": {
    "name": "ipython",
    "version": 3
   },
   "file_extension": ".py",
   "mimetype": "text/x-python",
   "name": "python",
   "nbconvert_exporter": "python",
   "pygments_lexer": "ipython3",
   "version": "3.5.2"
  },
  "toc": {
   "nav_menu": {},
   "number_sections": true,
   "sideBar": true,
   "skip_h1_title": false,
   "toc_cell": false,
   "toc_position": {},
   "toc_section_display": "block",
   "toc_window_display": false
  },
  "widgets": {
   "state": {},
   "version": "1.1.2"
  }
 },
 "nbformat": 4,
 "nbformat_minor": 2
}
